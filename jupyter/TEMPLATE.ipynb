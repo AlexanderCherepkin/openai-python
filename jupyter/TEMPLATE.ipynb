{
 "cells": [
  {
   "cell_type": "code",
   "execution_count": null,
   "id": "d452b298-535b-434f-943a-94a2decc638e",
   "metadata": {},
   "outputs": [],
   "source": [
    "from openai import OpenAI\n",
    "import os\n",
    "from dotenv import load_dotenv\n",
    "\n",
    "# Загружаем переменные окружения\n",
    "load_dotenv()\n",
    "\n",
    "# Получаем API-ключ из переменной окружения\n",
    "api_key = os.getenv(\"OPENAI_API_KEY\")\n",
    "\n",
    "# Проверяем, что API-ключ загружен корректно\n",
    "if api_key is None:\n",
    "    raise ValueError(\"API-ключ не найден. Убедитесь, что он установлен в переменной окружения.\")\n",
    "\n",
    "# Создаем клиент OpenAI\n",
    "client = OpenAI(api_key=api_key)"
   ]
  }
 ],
 "metadata": {
  "kernelspec": {
   "display_name": "Python 3 (ipykernel)",
   "language": "python",
   "name": "python3"
  },
  "language_info": {
   "codemirror_mode": {
    "name": "ipython",
    "version": 3
   },
   "file_extension": ".py",
   "mimetype": "text/x-python",
   "name": "python",
   "nbconvert_exporter": "python",
   "pygments_lexer": "ipython3",
   "version": "3.13.2"
  }
 },
 "nbformat": 4,
 "nbformat_minor": 5
}
