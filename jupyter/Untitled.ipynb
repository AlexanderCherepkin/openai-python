{
 "cells": [
  {
   "cell_type": "code",
   "execution_count": 1,
   "id": "163560ca-6f7e-45bc-8344-7f8ce51ed1d1",
   "metadata": {},
   "outputs": [
    {
     "name": "stdout",
     "output_type": "stream",
     "text": [
      "complection.py импортирован успешно!\n"
     ]
    }
   ],
   "source": [
    "import sys\n",
    "sys.path.append(\"D:/openai-python/jupyter/utils\")  # Добавляем путь к utils\n",
    "\n",
    "import complection  # Проверяем импорт\n",
    "print(\"complection.py импортирован успешно!\")\n"
   ]
  },
  {
   "cell_type": "code",
   "execution_count": null,
   "id": "829dedb1-d743-4ebe-a9b0-885332dd7f5d",
   "metadata": {},
   "outputs": [],
   "source": []
  }
 ],
 "metadata": {
  "kernelspec": {
   "display_name": "Python 3 (ipykernel)",
   "language": "python",
   "name": "python3"
  },
  "language_info": {
   "codemirror_mode": {
    "name": "ipython",
    "version": 3
   },
   "file_extension": ".py",
   "mimetype": "text/x-python",
   "name": "python",
   "nbconvert_exporter": "python",
   "pygments_lexer": "ipython3",
   "version": "3.13.2"
  }
 },
 "nbformat": 4,
 "nbformat_minor": 5
}
