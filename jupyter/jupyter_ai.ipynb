{
 "cells": [
  {
   "cell_type": "markdown",
   "id": "dc95e4c9-a0be-445b-874f-e6204949cf7b",
   "metadata": {},
   "source": [
    "# Jupyter AI with OpenAI API"
   ]
  },
  {
   "cell_type": "markdown",
   "id": "3d19e0b8-b100-4a80-aa12-aae7150d0f5b",
   "metadata": {},
   "source": [
    "### Install and import necessary packages for Jupyter AI"
   ]
  },
  {
   "cell_type": "code",
   "execution_count": 1,
   "id": "8ca03bcd-3f7d-4e11-a21b-c5bf76a483a1",
   "metadata": {},
   "outputs": [
    {
     "data": {
      "text/plain": [
       "True"
      ]
     },
     "execution_count": 1,
     "metadata": {},
     "output_type": "execute_result"
    }
   ],
   "source": [
    "!pip install -q python-dotenv openai jupyter-ai langchain-openai\n",
    "\n",
    "from dotenv import load_dotenv\n",
    "load_dotenv()\n"
   ]
  },
  {
   "cell_type": "code",
   "execution_count": 2,
   "id": "5ff03f29-9f26-4d98-9760-9283a54c5fd8",
   "metadata": {},
   "outputs": [
    {
     "name": "stdout",
     "output_type": "stream",
     "text": [
      "Python 3.13.2\n"
     ]
    }
   ],
   "source": [
    "!python --version"
   ]
  },
  {
   "cell_type": "markdown",
   "id": "0b63a482-af21-43ca-bf32-8fe0847ba00f",
   "metadata": {},
   "source": [
    "## Команда %load_ext jupyter_ai запускает следующую команду %%ai chatgpt, а затем следует запрос"
   ]
  },
  {
   "cell_type": "code",
   "execution_count": 3,
   "id": "e5fdc1e1-e94d-4de9-b838-668ed6935219",
   "metadata": {},
   "outputs": [],
   "source": [
    "%load_ext jupyter_ai"
   ]
  },
  {
   "cell_type": "code",
   "execution_count": 4,
   "id": "44a2417b-8315-4818-b57d-17f8f6ec07e0",
   "metadata": {},
   "outputs": [
    {
     "data": {
      "text/markdown": [
       "Я готов ответить на запросы на русском языке."
      ],
      "text/plain": [
       "<IPython.core.display.Markdown object>"
      ]
     },
     "execution_count": 4,
     "metadata": {
      "text/markdown": {
       "jupyter_ai": {
        "model_id": "gpt-3.5-turbo",
        "provider_id": "openai-chat"
       }
      }
     },
     "output_type": "execute_result"
    }
   ],
   "source": [
    "%%ai chatgpt \n",
    "Все ответы на запросы отвечай на русском языке"
   ]
  },
  {
   "cell_type": "code",
   "execution_count": 5,
   "id": "bd9a5bbd-0c6c-4335-96a6-b785726b8cf5",
   "metadata": {
    "collapsed": true,
    "jupyter": {
     "outputs_hidden": true
    },
    "scrolled": true
   },
   "outputs": [
    {
     "data": {
      "text/markdown": [
       "```python\n",
       "# Пример создания чатбота на Python для авторемонтной мастерской\n",
       "\n",
       "# Библиотека для работы с текстом\n",
       "import nltk\n",
       "from nltk.chat.util import Chat, reflections\n",
       "\n",
       "# Правила для ответов чатбота\n",
       "pairs = [\n",
       "    (\n",
       "        r\"(.*)добр(ое|ый) ден(ь|ьк)\",\n",
       "        (\"Здравствуйте! Чем могу помочь?\",)\n",
       "    ),\n",
       "    (\n",
       "        r\"(.*)авторемонт(.*)\",\n",
       "        (\"Какие проблемы с машиной у вас возникли?\",)\n",
       "    ),\n",
       "    (\n",
       "        r\"(.*)ремонт машины(.*)(помочь|нужно)(.*)\",\n",
       "        (\"Да, конечно, мы готовы помочь вам с ремонтом. Напишите, что случилось с автомобилем.\",)\n",
       "    ),\n",
       "    (\n",
       "        r\"(.*)спасибо(.*)\",\n",
       "        (\"Пожалуйста, обращайтесь, если возникнут еще вопросы.\",)\n",
       "    ),\n",
       "    (\n",
       "        r\"(.*)\",\n",
       "        (\"Извините, я вас не понял. Можете повторить вопрос?\",)\n",
       "    )\n",
       "]\n",
       "\n",
       "# Создание экземпляра чатбота\n",
       "chatbot = Chat(pairs, reflections)\n",
       "\n",
       "# Функция для начала чата\n",
       "def start_chat():\n",
       "    print(\"Здравствуйте! Чем могу помочь?\")\n",
       "    \n",
       "    while True:\n",
       "        user_input = input(\"Вы: \")\n",
       "        \n",
       "        if user_input.lower() == 'выход':\n",
       "            break\n",
       "        \n",
       "        response = chatbot.respond(user_input)\n",
       "        print(\"Чатбот:\", response)\n",
       "\n",
       "# Запуск чатбота\n",
       "start_chat()\n",
       "```"
      ],
      "text/plain": [
       "<IPython.core.display.Markdown object>"
      ]
     },
     "execution_count": 5,
     "metadata": {
      "text/markdown": {
       "jupyter_ai": {
        "model_id": "gpt-3.5-turbo",
        "provider_id": "openai-chat"
       }
      }
     },
     "output_type": "execute_result"
    }
   ],
   "source": [
    "%%ai chatgpt \n",
    "Создай chatbots на python для авторемонтной мастерской"
   ]
  },
  {
   "cell_type": "code",
   "execution_count": 6,
   "id": "6d82c8dd-352c-4fb6-a8e0-dc74ca81278e",
   "metadata": {},
   "outputs": [
    {
     "data": {
      "text/markdown": [
       "```markdown\n",
       "- Вопрос\n",
       "- Рекомендации\n",
       "- Пожелания\n",
       "```"
      ],
      "text/plain": [
       "<IPython.core.display.Markdown object>"
      ]
     },
     "execution_count": 6,
     "metadata": {
      "text/markdown": {
       "jupyter_ai": {
        "model_id": "gpt-3.5-turbo",
        "provider_id": "openai-chat"
       }
      }
     },
     "output_type": "execute_result"
    }
   ],
   "source": [
    "%%ai chatgpt \n",
    "Меню в меню три вкладки Вопрос Рекомендации Пожелания"
   ]
  },
  {
   "cell_type": "code",
   "execution_count": 7,
   "id": "2bbbc036-0e89-441c-b714-54153900ce9d",
   "metadata": {},
   "outputs": [
    {
     "data": {
      "text/markdown": [
       "```markdown\n",
       "Извините, я вас не понял. Можете повторить вопрос?\n",
       "```"
      ],
      "text/plain": [
       "<IPython.core.display.Markdown object>"
      ]
     },
     "execution_count": 7,
     "metadata": {
      "text/markdown": {
       "jupyter_ai": {
        "model_id": "gpt-3.5-turbo",
        "provider_id": "openai-chat"
       }
      }
     },
     "output_type": "execute_result"
    }
   ],
   "source": [
    "%%ai chatgpt\n",
    "Ничего не требуется"
   ]
  },
  {
   "cell_type": "code",
   "execution_count": null,
   "id": "4d837eaf-9b5b-4635-b573-0f14cfe9c7ff",
   "metadata": {},
   "outputs": [],
   "source": [
    "import sys\n",
    "sys.setdefaultencoding('utf-8')"
   ]
  },
  {
   "cell_type": "code",
   "execution_count": null,
   "id": "e36bcfd2-c6f6-47e0-bca5-ed448094a105",
   "metadata": {},
   "outputs": [],
   "source": [
    "import sys\n",
    "sys.stdin.reconfigure(encoding='utf-8')\n",
    "sys.stdout.reconfigure(encoding='utf-8')\n"
   ]
  },
  {
   "cell_type": "code",
   "execution_count": null,
   "id": "4aaaab69-86d5-462c-9108-ca6aa67214f2",
   "metadata": {},
   "outputs": [],
   "source": [
    "import sys\n",
    "import io\n",
    "\n",
    "sys.stdout = io.TextIOWrapper(sys.stdout.buffer, encoding='utf-8')\n",
    "sys.stderr = io.TextIOWrapper(sys.stderr.buffer, encoding='utf-8')"
   ]
  },
  {
   "cell_type": "code",
   "execution_count": null,
   "id": "e8a7d7e6-b4de-480c-ad78-0b8e5d92f8d0",
   "metadata": {},
   "outputs": [],
   "source": [
    "chcp 65001\n",
    "set PYTHONUTF8=1\n",
    "jupyter notebook\n"
   ]
  },
  {
   "cell_type": "code",
   "execution_count": 13,
   "id": "9b491674-75d0-4af9-9f06-8f13eaea5edb",
   "metadata": {},
   "outputs": [
    {
     "data": {
      "text/html": [
       "AI generated code inserted below &#11015;&#65039;"
      ],
      "text/plain": [
       "<IPython.core.display.HTML object>"
      ]
     },
     "execution_count": 13,
     "metadata": {
      "text/html": {
       "jupyter_ai": {
        "model_id": "gpt-4o",
        "provider_id": "openai-chat"
       }
      }
     },
     "output_type": "execute_result"
    }
   ],
   "source": [
    "%%ai openai-chat:gpt-4o -f code\n",
    "Create a python program which will create sample CSV file with few columns and save it in the current folder\n"
   ]
  },
  {
   "cell_type": "code",
   "execution_count": null,
   "id": "c3dad021-31b0-4b82-be38-cc77313c3f04",
   "metadata": {},
   "outputs": [],
   "source": [
    "import csv\n",
    "\n",
    "# Define the header and data for the CSV file\n",
    "header = ['Name', 'Age', 'City']\n",
    "data = [\n",
    "    ['Alice', 30, 'New York'],\n",
    "    ['Bob', 24, 'Los Angeles'],\n",
    "    ['Charlie', 29, 'Chicago']\n",
    "]\n",
    "\n",
    "# Specify the filename\n",
    "filename = 'sample_data.csv'\n",
    "\n",
    "# Write the data to a CSV file\n",
    "with open(filename, mode='w', newline='') as file:\n",
    "    writer = csv.writer(file)\n",
    "    writer.writerow(header)\n",
    "    writer.writerows(data)\n",
    "\n",
    "print(f'CSV file {filename} created successfully.')"
   ]
  },
  {
   "cell_type": "code",
   "execution_count": 17,
   "id": "3c3d9ba1-60fb-41e9-8fb2-bc046ae086f0",
   "metadata": {},
   "outputs": [
    {
     "data": {
      "text/markdown": [
       "I'm glad to hear that the `sample.csv` file has been successfully created in your current directory using the Python program. If you have any specific requests or need any further assistance with the file or any related tasks, please let me know."
      ],
      "text/plain": [
       "<IPython.core.display.Markdown object>"
      ]
     },
     "execution_count": 17,
     "metadata": {
      "text/markdown": {
       "jupyter_ai": {
        "model_id": "gpt-3.5-turbo",
        "provider_id": "openai-chat"
       }
      }
     },
     "output_type": "execute_result"
    }
   ],
   "source": [
    "%%ai chatgpt\n",
    "sample.csv has been created in the current folder the python."
   ]
  },
  {
   "cell_type": "code",
   "execution_count": 20,
   "id": "9be6bc74-b5de-4333-a620-d21076fe9637",
   "metadata": {},
   "outputs": [
    {
     "name": "stdout",
     "output_type": "stream",
     "text": [
      "Requirement already satisfied: pandas in c:\\users\\user\\appdata\\local\\programs\\python\\python313\\lib\\site-packages (2.2.3)\n",
      "Requirement already satisfied: numpy>=1.26.0 in c:\\users\\user\\appdata\\local\\programs\\python\\python313\\lib\\site-packages (from pandas) (2.2.4)\n",
      "Requirement already satisfied: python-dateutil>=2.8.2 in c:\\users\\user\\appdata\\local\\programs\\python\\python313\\lib\\site-packages (from pandas) (2.9.0.post0)\n",
      "Requirement already satisfied: pytz>=2020.1 in c:\\users\\user\\appdata\\local\\programs\\python\\python313\\lib\\site-packages (from pandas) (2025.1)\n",
      "Requirement already satisfied: tzdata>=2022.7 in c:\\users\\user\\appdata\\local\\programs\\python\\python313\\lib\\site-packages (from pandas) (2025.1)\n",
      "Requirement already satisfied: six>=1.5 in c:\\users\\user\\appdata\\local\\programs\\python\\python313\\lib\\site-packages (from python-dateutil>=2.8.2->pandas) (1.17.0)\n"
     ]
    }
   ],
   "source": [
    "!pip install pandas"
   ]
  },
  {
   "cell_type": "code",
   "execution_count": 21,
   "id": "466a98cc-71e4-46fa-8bda-00b22f8d891e",
   "metadata": {},
   "outputs": [
    {
     "name": "stdout",
     "output_type": "stream",
     "text": [
      "Файл 'sample.csv' успешно создан!\n"
     ]
    }
   ],
   "source": [
    "import csv\n",
    "\n",
    "# Данные\n",
    "data = [\n",
    "    [\"Name\", \"Age\", \"City\"],\n",
    "    [\"Alice\", 25, \"New York\"],\n",
    "    [\"Bob\", 30, \"Los Angeles\"],\n",
    "    [\"Charlie\", 35, \"Chicago\"]\n",
    "]\n",
    "\n",
    "# Создание CSV-файла\n",
    "with open(\"sample.csv\", mode=\"w\", newline=\"\", encoding=\"utf-8\") as file:\n",
    "    writer = csv.writer(file)\n",
    "    writer.writerows(data)\n",
    "\n",
    "print(\"Файл 'sample.csv' успешно создан!\")\n"
   ]
  },
  {
   "cell_type": "code",
   "execution_count": 23,
   "id": "83633aaa-f45a-448f-a407-b4ce198b295d",
   "metadata": {},
   "outputs": [
    {
     "data": {
      "text/html": [
       "AI generated code inserted below &#11015;&#65039;"
      ],
      "text/plain": [
       "<IPython.core.display.HTML object>"
      ]
     },
     "execution_count": 23,
     "metadata": {
      "text/html": {
       "jupyter_ai": {
        "model_id": "gpt-4o",
        "provider_id": "openai-chat"
       }
      }
     },
     "output_type": "execute_result"
    }
   ],
   "source": [
    "%%ai openai-chat:gpt-4o -f code\n",
    "Создай другой файл .csv"
   ]
  },
  {
   "cell_type": "code",
   "execution_count": 24,
   "id": "0edb4388-ca01-4d45-90e6-770237b8ceda",
   "metadata": {},
   "outputs": [
    {
     "name": "stdout",
     "output_type": "stream",
     "text": [
      "Файл 'sample.csv' успешно создан!\n"
     ]
    }
   ],
   "source": [
    "import csv\n",
    "\n",
    "# Data to be written to the new CSV file\n",
    "data = [\n",
    "    [\"Column1\", \"Column2\", \"Column3\"],\n",
    "    [\"Row1Data1\", \"Row1Data2\", \"Row1Data3\"],\n",
    "    [\"Row2Data1\", \"Row2Data2\", \"Row2Data3\"],\n",
    "    [\"Row3Data1\", \"Row3Data2\", \"Row3Data3\"]\n",
    "]\n",
    "\n",
    "# Creating a new CSV file\n",
    "with open('new_sample.csv', mode='w', newline='', encoding='utf-8') as file:\n",
    "    writer = csv.writer(file)\n",
    "    writer.writerows(data)\n",
    "    print(\"Файл 'sample.csv' успешно создан!\")"
   ]
  },
  {
   "cell_type": "code",
   "execution_count": 25,
   "id": "0b71a7af-6062-449d-bc5d-fb6e8736f5be",
   "metadata": {},
   "outputs": [
    {
     "data": {
      "text/html": [
       "AI generated code inserted below &#11015;&#65039;"
      ],
      "text/plain": [
       "<IPython.core.display.HTML object>"
      ]
     },
     "execution_count": 25,
     "metadata": {
      "text/html": {
       "jupyter_ai": {
        "model_id": "gpt-4o",
        "provider_id": "openai-chat"
       }
      }
     },
     "output_type": "execute_result"
    }
   ],
   "source": [
    "%%ai openai-chat:gpt-4o -f code\n",
    "В ниже представленном файле измени данные и выведи с названием файла my_data.csv\n",
    "import csv\n",
    "\n",
    "# Данные\n",
    "data = [\n",
    "    [\"Name\", \"Age\", \"City\"],\n",
    "    [\"Alice\", 25, \"New York\"],\n",
    "    [\"Bob\", 30, \"Los Angeles\"],\n",
    "    [\"Charlie\", 35, \"Chicago\"]\n",
    "]\n",
    "\n",
    "# Создание CSV-файла\n",
    "with open(\"sample.csv\", mode=\"w\", newline=\"\", encoding=\"utf-8\") as file:\n",
    "    writer = csv.writer(file)\n",
    "    writer.writerows(data)\n",
    "\n",
    "print(\"Файл 'sample.csv' успешно создан!\")"
   ]
  },
  {
   "cell_type": "code",
   "execution_count": 26,
   "id": "3fe202d9-636f-427a-8874-bbd53b2fb8e4",
   "metadata": {},
   "outputs": [
    {
     "name": "stdout",
     "output_type": "stream",
     "text": [
      "Файл 'my_data.csv' успешно создан!\n"
     ]
    }
   ],
   "source": [
    "import csv\n",
    "\n",
    "# Данные\n",
    "data = [\n",
    "    [\"Name\", \"Age\", \"City\"],\n",
    "    [\"Anna\", 28, \"San Francisco\"],\n",
    "    [\"David\", 32, \"Seattle\"],\n",
    "    [\"Eva\", 29, \"Boston\"]\n",
    "]\n",
    "\n",
    "# Создание CSV-файла\n",
    "with open(\"my_data.csv\", mode=\"w\", newline=\"\", encoding=\"utf-8\") as file:\n",
    "    writer = csv.writer(file)\n",
    "    writer.writerows(data)\n",
    "\n",
    "print(\"Файл 'my_data.csv' успешно создан!\")"
   ]
  },
  {
   "cell_type": "code",
   "execution_count": 28,
   "id": "a51af023-b711-448b-be9b-b42841336261",
   "metadata": {},
   "outputs": [
    {
     "data": {
      "text/markdown": [
       "```markdown\n",
       "```python\n",
       "import csv\n",
       "\n",
       "# Sample data\n",
       "data = [\n",
       "    [\"ID\", \"First Name\", \"Last Name\", \"Email\"],\n",
       "    [1, \"John\", \"Doe\", \"john.doe@example.com\"],\n",
       "    [2, \"Jane\", \"Smith\", \"jane.smith@example.com\"],\n",
       "    [3, \"Emily\", \"Johnson\", \"emily.johnson@example.com\"]\n",
       "]\n",
       "\n",
       "# Create a CSV file in the current folder\n",
       "with open(\"sample.csv\", mode=\"w\", newline=\"\", encoding=\"utf-8\") as file:\n",
       "    writer = csv.writer(file)\n",
       "    writer.writerows(data)\n",
       "\n",
       "print(\"Sample file 'sample.csv' created successfully!\")\n",
       "```\n",
       "```"
      ],
      "text/plain": [
       "<IPython.core.display.Markdown object>"
      ]
     },
     "execution_count": 28,
     "metadata": {
      "text/markdown": {
       "jupyter_ai": {
        "model_id": "gpt-4o",
        "provider_id": "openai-chat"
       }
      }
     },
     "output_type": "execute_result"
    }
   ],
   "source": [
    "%%ai openai-chat:gpt-4o -f markdown\n",
    "Create a markdown which will create sample file with few columns and save it in the current folder"
   ]
  },
  {
   "cell_type": "raw",
   "id": "2c32293a-2c02-4f18-9687-06641f82f974",
   "metadata": {},
   "source": [
    "%%ai openai-chat:gpt-4o -f raw\n",
    "Create a raw which will create sample file with few columns and save it in the current folder"
   ]
  },
  {
   "cell_type": "code",
   "execution_count": 29,
   "id": "a3e8c964-f783-48d5-b26b-41728666753e",
   "metadata": {},
   "outputs": [
    {
     "data": {
      "text/markdown": [
       "```markdown\n",
       "# Создание примера CSV файла\n",
       "\n",
       "Для создания простого CSV файла с несколькими столбцами, мы используем модуль `csv` в Python. Этот файл будет сохранен в текущей папке.\n",
       "\n",
       "## Пример кода\n",
       "\n",
       "```python\n",
       "import csv\n",
       "\n",
       "# Пример данных\n",
       "data = [\n",
       "    [\"ID\", \"First Name\", \"Last Name\", \"Email\"],\n",
       "    [1, \"John\", \"Doe\", \"john.doe@example.com\"],\n",
       "    [2, \"Jane\", \"Smith\", \"jane.smith@example.com\"],\n",
       "    [3, \"Emily\", \"Johnson\", \"emily.johnson@example.com\"]\n",
       "]\n",
       "\n",
       "# Создание CSV файла в текущей папке\n",
       "with open(\"sample.csv\", mode=\"w\", newline=\"\", encoding=\"utf-8\") as file:\n",
       "    writer = csv.writer(file)\n",
       "    writer.writerows(data)\n",
       "\n",
       "print(\"Файл 'sample.csv' успешно создан!\")\n",
       "```\n",
       "\n",
       "## Описание\n",
       "\n",
       "Этот код создает CSV файл под названием `sample.csv` с четырьмя столбцами: `ID`, `First Name`, `Last Name` и `Email`. Данные в этом примере - это список людей с их идентификаторами, именами и электронными почтами.\n",
       "```"
      ],
      "text/plain": [
       "<IPython.core.display.Markdown object>"
      ]
     },
     "execution_count": 29,
     "metadata": {
      "text/markdown": {
       "jupyter_ai": {
        "model_id": "gpt-4o",
        "provider_id": "openai-chat"
       }
      }
     },
     "output_type": "execute_result"
    }
   ],
   "source": [
    "%%ai openai-chat:gpt-4o -f markdown\n",
    "Выведи как markdown файл my_da"
   ]
  },
  {
   "cell_type": "code",
   "execution_count": null,
   "id": "fbf74c8e-17a1-424b-a65c-cd53d495e152",
   "metadata": {},
   "outputs": [],
   "source": []
  }
 ],
 "metadata": {
  "kernelspec": {
   "display_name": "Python 3 (ipykernel)",
   "language": "python",
   "name": "python3"
  },
  "language_info": {
   "codemirror_mode": {
    "name": "ipython",
    "version": 3
   },
   "file_extension": ".py",
   "mimetype": "text/x-python",
   "name": "python",
   "nbconvert_exporter": "python",
   "pygments_lexer": "ipython3",
   "version": "3.13.2"
  }
 },
 "nbformat": 4,
 "nbformat_minor": 5
}
