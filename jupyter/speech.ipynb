{
 "cells": [
  {
   "cell_type": "markdown",
   "id": "028a3729-1a5f-458c-a78a-5df574c436c8",
   "metadata": {},
   "source": [
    "## Import necessary pakages and initialize OpenAI client"
   ]
  },
  {
   "cell_type": "code",
   "execution_count": 9,
   "id": "c3a3d37d-2ac7-4023-a67a-6273d5097aae",
   "metadata": {},
   "outputs": [],
   "source": [
    "!pip install -q python-dotenv openai jupyter-ai langchain-openai\n",
    "\n",
    "import sys\n",
    "\n",
    "sys.path.append(os.path.abspath(\"utils\"))\n",
    "from utils.completion import object_to_dict"
   ]
  },
  {
   "cell_type": "code",
   "execution_count": 12,
   "id": "59db4fc6-ca14-4dfd-8ce9-9f6cda533911",
   "metadata": {},
   "outputs": [
    {
     "data": {
      "text/plain": [
       "'D:\\\\openai-python\\\\jupyter'"
      ]
     },
     "execution_count": 12,
     "metadata": {},
     "output_type": "execute_result"
    }
   ],
   "source": [
    "from dotenv import load_dotenv\n",
    "from pprint import pprint\n",
    "\n",
    "load_dotenv()\n",
    "\n",
    "os.getcwd()\n"
   ]
  },
  {
   "cell_type": "markdown",
   "id": "87af8bab-81e4-458d-848c-57413b48e201",
   "metadata": {},
   "source": [
    "## Send text to speech request and process response"
   ]
  },
  {
   "cell_type": "code",
   "execution_count": 10,
   "id": "540d499e-2190-455a-9a68-e6bc23473fee",
   "metadata": {},
   "outputs": [
    {
     "name": "stdout",
     "output_type": "stream",
     "text": [
      "Файл сохранён: D:\\openai-python\\jupyter\\audio\\speech_1742477855.mp3\n"
     ]
    }
   ],
   "source": [
    "from pathlib import Path\n",
    "import os\n",
    "import time\n",
    "from openai import OpenAI  # Импорт OpenAI\n",
    "\n",
    "# Создаём клиент OpenAI\n",
    "client = OpenAI()\n",
    "\n",
    "# Убедимся, что папка \"audio\" существует\n",
    "audio_dir = Path(os.getcwd()) / \"audio\"\n",
    "audio_dir.mkdir(parents=True, exist_ok=True)\n",
    "\n",
    "# Генерируем уникальное имя файла с помощью метки времени\n",
    "filename = f\"speech_{int(time.time())}.mp3\"\n",
    "speech_file_path = audio_dir / filename\n",
    "\n",
    "# Отправляем запрос на генерацию речи\n",
    "response = client.audio.speech.create(\n",
    "    model=\"tts-1-hd\",\n",
    "    voice=\"shimmer\",\n",
    "    input=\"Send text to speech request and process response\",\n",
    ")\n",
    "\n",
    "# Сохраняем полученный аудиофайл\n",
    "with open(speech_file_path, \"wb\") as f:\n",
    "    f.write(response.content)  # Записываем содержимое ответа в файл\n",
    "\n",
    "print(f\"Файл сохранён: {speech_file_path}\")"
   ]
  },
  {
   "cell_type": "code",
   "execution_count": null,
   "id": "c377b2cb-caec-4d4f-9881-5e91e6c804bb",
   "metadata": {},
   "outputs": [],
   "source": []
  }
 ],
 "metadata": {
  "kernelspec": {
   "display_name": "Python 3 (ipykernel)",
   "language": "python",
   "name": "python3"
  },
  "language_info": {
   "codemirror_mode": {
    "name": "ipython",
    "version": 3
   },
   "file_extension": ".py",
   "mimetype": "text/x-python",
   "name": "python",
   "nbconvert_exporter": "python",
   "pygments_lexer": "ipython3",
   "version": "3.13.2"
  }
 },
 "nbformat": 4,
 "nbformat_minor": 5
}
